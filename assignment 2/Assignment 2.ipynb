{
 "cells": [
  {
   "cell_type": "markdown",
   "id": "c441e4ca",
   "metadata": {},
   "source": [
    "# Assignment 2\n",
    "* In this assignment you will be working with three data files from iMDB:\n",
    "    * cast.csv\n",
    "    * release_dates.csv\n",
    "    * titles.csv\n",
    "* Using the appropriate file(s), answer the following questions\n",
    "* Some questions can be completed with one-liners while others are a bit more involved\n",
    "* Where appropriate, answers should also provide brief commentary\n",
    "* Exclude data that doen't make senss, i.e. data from the future\n",
    "* Once complete upload this notebook to your classwork Github repo and post the link on Canvas "
   ]
  },
  {
   "cell_type": "code",
   "execution_count": 66,
   "id": "f4594546",
   "metadata": {},
   "outputs": [],
   "source": [
    "#importing required libraries\n",
    "import pandas as pd\n",
    "import numpy as np\n",
    "import matplotlib.pyplot as plt\n",
    "import math\n",
    "from datetime import datetime"
   ]
  },
  {
   "cell_type": "code",
   "execution_count": 67,
   "id": "7428016c-aa06-471f-9a7b-e5073a3d1a95",
   "metadata": {},
   "outputs": [],
   "source": [
    "#read files\n",
    "cast = pd.read_csv(r\"C:\\Users\\jjgzz\\OIM7502_F25\\data\\cast.csv\")\n",
    "release_dates = pd.read_csv(r\"C:\\Users\\jjgzz\\OIM7502_F25\\data\\release_dates.csv\")\n",
    "titles = pd.read_csv(r\"C:\\Users\\jjgzz\\OIM7502_F25\\data\\titles.csv\")"
   ]
  },
  {
   "cell_type": "code",
   "execution_count": 68,
   "id": "dba54464-75b2-40cc-9fb0-bb462244913b",
   "metadata": {},
   "outputs": [
    {
     "data": {
      "text/html": [
       "<div>\n",
       "<style scoped>\n",
       "    .dataframe tbody tr th:only-of-type {\n",
       "        vertical-align: middle;\n",
       "    }\n",
       "\n",
       "    .dataframe tbody tr th {\n",
       "        vertical-align: top;\n",
       "    }\n",
       "\n",
       "    .dataframe thead th {\n",
       "        text-align: right;\n",
       "    }\n",
       "</style>\n",
       "<table border=\"1\" class=\"dataframe\">\n",
       "  <thead>\n",
       "    <tr style=\"text-align: right;\">\n",
       "      <th></th>\n",
       "      <th>title</th>\n",
       "      <th>year</th>\n",
       "      <th>name</th>\n",
       "      <th>type</th>\n",
       "      <th>character</th>\n",
       "      <th>n</th>\n",
       "    </tr>\n",
       "  </thead>\n",
       "  <tbody>\n",
       "    <tr>\n",
       "      <th>0</th>\n",
       "      <td>Closet Monster</td>\n",
       "      <td>2015</td>\n",
       "      <td>Buffy #1</td>\n",
       "      <td>actor</td>\n",
       "      <td>Buffy 4</td>\n",
       "      <td>31.0</td>\n",
       "    </tr>\n",
       "    <tr>\n",
       "      <th>1</th>\n",
       "      <td>Suuri illusioni</td>\n",
       "      <td>1985</td>\n",
       "      <td>Homo $</td>\n",
       "      <td>actor</td>\n",
       "      <td>Guests</td>\n",
       "      <td>22.0</td>\n",
       "    </tr>\n",
       "    <tr>\n",
       "      <th>2</th>\n",
       "      <td>Battle of the Sexes</td>\n",
       "      <td>2017</td>\n",
       "      <td>$hutter</td>\n",
       "      <td>actor</td>\n",
       "      <td>Bobby Riggs Fan</td>\n",
       "      <td>10.0</td>\n",
       "    </tr>\n",
       "    <tr>\n",
       "      <th>3</th>\n",
       "      <td>Secret in Their Eyes</td>\n",
       "      <td>2015</td>\n",
       "      <td>$hutter</td>\n",
       "      <td>actor</td>\n",
       "      <td>2002 Dodger Fan</td>\n",
       "      <td>NaN</td>\n",
       "    </tr>\n",
       "    <tr>\n",
       "      <th>4</th>\n",
       "      <td>Steve Jobs</td>\n",
       "      <td>2015</td>\n",
       "      <td>$hutter</td>\n",
       "      <td>actor</td>\n",
       "      <td>1988 Opera House Patron</td>\n",
       "      <td>NaN</td>\n",
       "    </tr>\n",
       "  </tbody>\n",
       "</table>\n",
       "</div>"
      ],
      "text/plain": [
       "                  title  year      name   type                character     n\n",
       "0        Closet Monster  2015  Buffy #1  actor                  Buffy 4  31.0\n",
       "1       Suuri illusioni  1985    Homo $  actor                   Guests  22.0\n",
       "2   Battle of the Sexes  2017   $hutter  actor          Bobby Riggs Fan  10.0\n",
       "3  Secret in Their Eyes  2015   $hutter  actor          2002 Dodger Fan   NaN\n",
       "4            Steve Jobs  2015   $hutter  actor  1988 Opera House Patron   NaN"
      ]
     },
     "execution_count": 68,
     "metadata": {},
     "output_type": "execute_result"
    }
   ],
   "source": [
    "#verify cast works\n",
    "cast.head()"
   ]
  },
  {
   "cell_type": "code",
   "execution_count": 69,
   "id": "d4f7b2a9-5e07-42a9-8420-766a386de3db",
   "metadata": {},
   "outputs": [
    {
     "data": {
      "text/html": [
       "<div>\n",
       "<style scoped>\n",
       "    .dataframe tbody tr th:only-of-type {\n",
       "        vertical-align: middle;\n",
       "    }\n",
       "\n",
       "    .dataframe tbody tr th {\n",
       "        vertical-align: top;\n",
       "    }\n",
       "\n",
       "    .dataframe thead th {\n",
       "        text-align: right;\n",
       "    }\n",
       "</style>\n",
       "<table border=\"1\" class=\"dataframe\">\n",
       "  <thead>\n",
       "    <tr style=\"text-align: right;\">\n",
       "      <th></th>\n",
       "      <th>title</th>\n",
       "      <th>year</th>\n",
       "      <th>country</th>\n",
       "      <th>date</th>\n",
       "    </tr>\n",
       "  </thead>\n",
       "  <tbody>\n",
       "    <tr>\n",
       "      <th>0</th>\n",
       "      <td>#73, Shaanthi Nivaasa</td>\n",
       "      <td>2007</td>\n",
       "      <td>India</td>\n",
       "      <td>2007-06-15</td>\n",
       "    </tr>\n",
       "    <tr>\n",
       "      <th>1</th>\n",
       "      <td>#BKKY</td>\n",
       "      <td>2016</td>\n",
       "      <td>Cambodia</td>\n",
       "      <td>2017-10-12</td>\n",
       "    </tr>\n",
       "    <tr>\n",
       "      <th>2</th>\n",
       "      <td>#Beings</td>\n",
       "      <td>2015</td>\n",
       "      <td>Romania</td>\n",
       "      <td>2015-01-29</td>\n",
       "    </tr>\n",
       "    <tr>\n",
       "      <th>3</th>\n",
       "      <td>#Captured</td>\n",
       "      <td>2017</td>\n",
       "      <td>USA</td>\n",
       "      <td>2017-09-05</td>\n",
       "    </tr>\n",
       "    <tr>\n",
       "      <th>4</th>\n",
       "      <td>#Ewankosau saranghaeyo</td>\n",
       "      <td>2015</td>\n",
       "      <td>Philippines</td>\n",
       "      <td>2015-01-21</td>\n",
       "    </tr>\n",
       "  </tbody>\n",
       "</table>\n",
       "</div>"
      ],
      "text/plain": [
       "                    title  year      country        date\n",
       "0   #73, Shaanthi Nivaasa  2007        India  2007-06-15\n",
       "1                   #BKKY  2016     Cambodia  2017-10-12\n",
       "2                 #Beings  2015      Romania  2015-01-29\n",
       "3               #Captured  2017          USA  2017-09-05\n",
       "4  #Ewankosau saranghaeyo  2015  Philippines  2015-01-21"
      ]
     },
     "execution_count": 69,
     "metadata": {},
     "output_type": "execute_result"
    }
   ],
   "source": [
    "#verify release_dates works\n",
    "release_dates.head()"
   ]
  },
  {
   "cell_type": "code",
   "execution_count": 70,
   "id": "9837eaa5-e353-413d-928a-bdf12af1ab6c",
   "metadata": {},
   "outputs": [
    {
     "data": {
      "text/plain": [
       "<bound method NDFrame.head of                              title  year\n",
       "0                  Ankara ekspresi  1952\n",
       "1         Ans Vaterland, ans teure  1915\n",
       "2                      Miss Mohini  2002\n",
       "3                    La vera madre  1999\n",
       "4                     O Amerikanos  1993\n",
       "...                            ...   ...\n",
       "226008                  Armageddon  1969\n",
       "226009                Verit i znat  1986\n",
       "226010                 Muukalainen  2008\n",
       "226011  Byeolmyeongbuteun unjeonsa  1977\n",
       "226012            Red Headed Woman  1932\n",
       "\n",
       "[226013 rows x 2 columns]>"
      ]
     },
     "execution_count": 70,
     "metadata": {},
     "output_type": "execute_result"
    }
   ],
   "source": [
    "#verify titles works\n",
    "titles.head"
   ]
  },
  {
   "cell_type": "markdown",
   "id": "7f3efd04",
   "metadata": {},
   "source": [
    "### 1. Conduct a high level assessment of the three data files, i.e. how many records are there, what kind of data, etc. Summarize your findings with annotation. "
   ]
  },
  {
   "cell_type": "code",
   "execution_count": 72,
   "id": "03bc8314",
   "metadata": {},
   "outputs": [
    {
     "name": "stdout",
     "output_type": "stream",
     "text": [
      "(3442902, 6)\n",
      "(443486, 4)\n",
      "(226013, 2)\n"
     ]
    }
   ],
   "source": [
    "#size of datasets\n",
    "print(cast.shape)\n",
    "print(release_dates.shape)\n",
    "print(titles.shape)"
   ]
  },
  {
   "cell_type": "code",
   "execution_count": 73,
   "id": "a3805d29-969f-48f1-a0cf-125b46695458",
   "metadata": {},
   "outputs": [
    {
     "name": "stdout",
     "output_type": "stream",
     "text": [
      "<bound method DataFrame.info of                                     title  year                         name  \\\n",
      "0                          Closet Monster  2015                     Buffy #1   \n",
      "1                         Suuri illusioni  1985                       Homo $   \n",
      "2                     Battle of the Sexes  2017                      $hutter   \n",
      "3                    Secret in Their Eyes  2015                      $hutter   \n",
      "4                              Steve Jobs  2015                      $hutter   \n",
      "...                                   ...   ...                          ...   \n",
      "3442897                           Foxtrot  1988            Lilja Þórisdóttir   \n",
      "3442898  Niceland (Population. 1.000.002)  2004    Sigríður Jóna Þórisdóttir   \n",
      "3442899                         Skammdegi  1985           Dalla Þórðardóttir   \n",
      "3442900                      U.S.S.S.S...  2003  Kristín Andrea Þórðardóttir   \n",
      "3442901                 Bye Bye Blue Bird  1999                 Rosa á Rógvu   \n",
      "\n",
      "            type                character     n  \n",
      "0          actor                  Buffy 4  31.0  \n",
      "1          actor                   Guests  22.0  \n",
      "2          actor          Bobby Riggs Fan  10.0  \n",
      "3          actor          2002 Dodger Fan   NaN  \n",
      "4          actor  1988 Opera House Patron   NaN  \n",
      "...          ...                      ...   ...  \n",
      "3442897  actress                     Dóra  24.0  \n",
      "3442898  actress             Woman in Bus  26.0  \n",
      "3442899  actress            Hjúkrunarkona   9.0  \n",
      "3442900  actress   Afgr.dama á bensínstöð  17.0  \n",
      "3442901  actress        Pensionatværtinde   NaN  \n",
      "\n",
      "[3442902 rows x 6 columns]>\n",
      "<bound method DataFrame.info of                           title  year      country        date\n",
      "0         #73, Shaanthi Nivaasa  2007        India  2007-06-15\n",
      "1                         #BKKY  2016     Cambodia  2017-10-12\n",
      "2                       #Beings  2015      Romania  2015-01-29\n",
      "3                     #Captured  2017          USA  2017-09-05\n",
      "4        #Ewankosau saranghaeyo  2015  Philippines  2015-01-21\n",
      "...                         ...   ...          ...         ...\n",
      "443481  xXx: State of the Union  2005      Uruguay  2005-04-29\n",
      "443482  xXx: State of the Union  2005       Poland  2005-06-03\n",
      "443483  xXx: State of the Union  2005       Turkey  2005-06-03\n",
      "443484  xXx: State of the Union  2005        China  2005-06-17\n",
      "443485  xXx: State of the Union  2005       Greece  2005-06-24\n",
      "\n",
      "[443486 rows x 4 columns]>\n",
      "<bound method DataFrame.info of                              title  year\n",
      "0                  Ankara ekspresi  1952\n",
      "1         Ans Vaterland, ans teure  1915\n",
      "2                      Miss Mohini  2002\n",
      "3                    La vera madre  1999\n",
      "4                     O Amerikanos  1993\n",
      "...                            ...   ...\n",
      "226008                  Armageddon  1969\n",
      "226009                Verit i znat  1986\n",
      "226010                 Muukalainen  2008\n",
      "226011  Byeolmyeongbuteun unjeonsa  1977\n",
      "226012            Red Headed Woman  1932\n",
      "\n",
      "[226013 rows x 2 columns]>\n"
     ]
    }
   ],
   "source": [
    "#columns and datatypes\n",
    "print(cast.info)\n",
    "print(release_dates.info)\n",
    "print(titles.info)"
   ]
  },
  {
   "cell_type": "code",
   "execution_count": 74,
   "id": "86734637-1c75-4053-bc22-b631a3c85cd2",
   "metadata": {},
   "outputs": [
    {
     "name": "stdout",
     "output_type": "stream",
     "text": [
      "There are 6 missing titles and 8 missing characters in cast, one missing title in Titles, one missing title in release dates\n",
      "title              6\n",
      "year               0\n",
      "name               0\n",
      "type               0\n",
      "character          8\n",
      "n            1327783\n",
      "dtype: int64 title      1\n",
      "year       0\n",
      "country    0\n",
      "date       0\n",
      "dtype: int64 title    1\n",
      "year     0\n",
      "dtype: int64\n"
     ]
    }
   ],
   "source": [
    "#missing values per dataset\n",
    "print('There are 6 missing titles and 8 missing characters in cast, one missing title in Titles, one missing title in release dates')\n",
    "print(cast.isna().sum(), \n",
    "      release_dates.isna().sum(),\n",
    "      titles.isna().sum())"
   ]
  },
  {
   "cell_type": "code",
   "execution_count": 75,
   "id": "28e5afa5-0220-4f56-bf50-5fb4a0978f0b",
   "metadata": {},
   "outputs": [
    {
     "name": "stdout",
     "output_type": "stream",
     "text": [
      "Max year after filtering:\n",
      "cast.csv: 2025\n",
      "release_dates.csv: 2025\n",
      "titles.csv: 2025\n"
     ]
    }
   ],
   "source": [
    "#setting up cutoff date\n",
    "cutoff = 2025\n",
    "cast = cast[cast[\"year\"] <= cutoff]\n",
    "release_dates = release_dates[release_dates[\"year\"] <= cutoff]\n",
    "titles = titles[titles[\"year\"] <= cutoff]\n",
    "\n",
    "print(\"Max year after filtering:\")\n",
    "print(\"cast.csv:\", cast[\"year\"].max())\n",
    "print(\"release_dates.csv:\", release_dates[\"year\"].max())\n",
    "print(\"titles.csv:\", titles[\"year\"].max())"
   ]
  },
  {
   "cell_type": "markdown",
   "id": "8949aee1",
   "metadata": {},
   "source": [
    "### 2. How many movies have the title North by Northwest"
   ]
  },
  {
   "cell_type": "code",
   "execution_count": 77,
   "id": "712cba84",
   "metadata": {},
   "outputs": [
    {
     "name": "stdout",
     "output_type": "stream",
     "text": [
      "There is 1 movie called North by Northwest\n"
     ]
    }
   ],
   "source": [
    "#counting how many titles, case insensitive\n",
    "north_count = titles[titles[\"title\"].str.lower() == \"north by northwest\".lower()].shape[0]\n",
    "print('There is', north_count, 'movie called North by Northwest')"
   ]
  },
  {
   "cell_type": "markdown",
   "id": "651191f3",
   "metadata": {},
   "source": [
    "### 3. How many version of Hamlet are there, when was the first made? the last?"
   ]
  },
  {
   "cell_type": "code",
   "execution_count": 79,
   "id": "1e421672",
   "metadata": {},
   "outputs": [
    {
     "name": "stdout",
     "output_type": "stream",
     "text": [
      "There are 20 movies named Hamlet, the first one was made in 1910 the last one was made in 2017\n"
     ]
    }
   ],
   "source": [
    "hamlet = titles[titles[\"title\"].str.lower() == \"hamlet\"]\n",
    "hamlet_count = hamlet.shape[0]\n",
    "first_hamlet = hamlet[\"year\"].min()\n",
    "last_hamlet = hamlet[\"year\"].max()\n",
    "print('There are', hamlet_count, 'movies named Hamlet, the first one was made in', first_hamlet, 'the last one was made in', last_hamlet)"
   ]
  },
  {
   "cell_type": "markdown",
   "id": "5650b610",
   "metadata": {},
   "source": [
    "### 4. List all the movies called Treasure Island from oldest to newest"
   ]
  },
  {
   "cell_type": "code",
   "execution_count": 81,
   "id": "636611d9",
   "metadata": {},
   "outputs": [
    {
     "name": "stdout",
     "output_type": "stream",
     "text": [
      "Below you'll see all releases of treasure island from oldest to newest.\n"
     ]
    },
    {
     "data": {
      "text/html": [
       "<div>\n",
       "<style scoped>\n",
       "    .dataframe tbody tr th:only-of-type {\n",
       "        vertical-align: middle;\n",
       "    }\n",
       "\n",
       "    .dataframe tbody tr th {\n",
       "        vertical-align: top;\n",
       "    }\n",
       "\n",
       "    .dataframe thead th {\n",
       "        text-align: right;\n",
       "    }\n",
       "</style>\n",
       "<table border=\"1\" class=\"dataframe\">\n",
       "  <thead>\n",
       "    <tr style=\"text-align: right;\">\n",
       "      <th></th>\n",
       "      <th>title</th>\n",
       "      <th>year</th>\n",
       "    </tr>\n",
       "  </thead>\n",
       "  <tbody>\n",
       "    <tr>\n",
       "      <th>180911</th>\n",
       "      <td>Treasure Island</td>\n",
       "      <td>1918</td>\n",
       "    </tr>\n",
       "    <tr>\n",
       "      <th>108853</th>\n",
       "      <td>Treasure Island</td>\n",
       "      <td>1920</td>\n",
       "    </tr>\n",
       "    <tr>\n",
       "      <th>87953</th>\n",
       "      <td>Treasure Island</td>\n",
       "      <td>1934</td>\n",
       "    </tr>\n",
       "    <tr>\n",
       "      <th>126321</th>\n",
       "      <td>Treasure Island</td>\n",
       "      <td>1950</td>\n",
       "    </tr>\n",
       "    <tr>\n",
       "      <th>190233</th>\n",
       "      <td>Treasure Island</td>\n",
       "      <td>1972</td>\n",
       "    </tr>\n",
       "    <tr>\n",
       "      <th>122150</th>\n",
       "      <td>Treasure Island</td>\n",
       "      <td>1973</td>\n",
       "    </tr>\n",
       "    <tr>\n",
       "      <th>52099</th>\n",
       "      <td>Treasure Island</td>\n",
       "      <td>1985</td>\n",
       "    </tr>\n",
       "    <tr>\n",
       "      <th>36752</th>\n",
       "      <td>Treasure Island</td>\n",
       "      <td>1999</td>\n",
       "    </tr>\n",
       "  </tbody>\n",
       "</table>\n",
       "</div>"
      ],
      "text/plain": [
       "                  title  year\n",
       "180911  Treasure Island  1918\n",
       "108853  Treasure Island  1920\n",
       "87953   Treasure Island  1934\n",
       "126321  Treasure Island  1950\n",
       "190233  Treasure Island  1972\n",
       "122150  Treasure Island  1973\n",
       "52099   Treasure Island  1985\n",
       "36752   Treasure Island  1999"
      ]
     },
     "metadata": {},
     "output_type": "display_data"
    }
   ],
   "source": [
    "ti = titles[titles[\"title\"].str.lower() == \"treasure island\"]\n",
    "print(\"Below you'll see all releases of treasure island from oldest to newest.\")\n",
    "display(ti.sort_values(\"year\"))"
   ]
  },
  {
   "cell_type": "markdown",
   "id": "a94f4524",
   "metadata": {},
   "source": [
    "### 5. How many movies were made in 1950? 1980? 2000? What conclusions can you draw from these data points?"
   ]
  },
  {
   "cell_type": "code",
   "execution_count": 83,
   "id": "8d44bdb2",
   "metadata": {},
   "outputs": [
    {
     "name": "stdout",
     "output_type": "stream",
     "text": [
      "Movies released in 1950: 1109\n",
      "Movies released in 1980: 1750\n",
      "Movies released in 2000: 2568\n",
      "This can indicate several things which may be true at a time: The business got bigger, so more people are incentivized to make movies.\n",
      "At the same time, it may have become easier to make movies. For example, with the transition from digital to film, more portable cameras.\n",
      "You can even record a movie on an iPhone now.\n",
      "Looking at treasure island, there were more versions in the latter years. A lot of remakes. A lot of sequels.\n"
     ]
    }
   ],
   "source": [
    "#Figuring out movies made per year\n",
    "comp_years = [1950, 1980, 2000]\n",
    "\n",
    "for y in comp_years:\n",
    "    count = titles[titles['year'] == y].shape[0]\n",
    "    print(f\"Movies released in {y}: {count}\")\n",
    "print(\"This can indicate several things which may be true at a time: The business got bigger, so more people are incentivized to make movies.\")\n",
    "print(\"At the same time, it may have become easier to make movies. For example, with the transition from digital to film, more portable cameras.\")\n",
    "print(\"You can even record a movie on an iPhone now.\")\n",
    "print(\"Looking at treasure island, there were more versions in the latter years. A lot of remakes. A lot of sequels.\")"
   ]
  },
  {
   "cell_type": "markdown",
   "id": "0c34799c",
   "metadata": {},
   "source": [
    "### 6. How big was the cast of Metropolis\n"
   ]
  },
  {
   "cell_type": "code",
   "execution_count": 85,
   "id": "4461cc46",
   "metadata": {},
   "outputs": [
    {
     "name": "stdout",
     "output_type": "stream",
     "text": [
      "Metropolis had a cast size of 33\n"
     ]
    }
   ],
   "source": [
    "met_cast = cast[cast[\"title\"].str.lower() == \"metropolis\"]\n",
    "met_size = met_cast.shape[0]\n",
    "print(f\"Metropolis had a cast size of {met_size}\")"
   ]
  },
  {
   "cell_type": "code",
   "execution_count": null,
   "id": "d43aa7f6",
   "metadata": {},
   "outputs": [],
   "source": []
  },
  {
   "cell_type": "markdown",
   "id": "7dead3d7",
   "metadata": {},
   "source": [
    "### 7. How many roles for actors were there 1950's? 1990's"
   ]
  },
  {
   "cell_type": "code",
   "execution_count": 87,
   "id": "9f7336d3",
   "metadata": {},
   "outputs": [
    {
     "name": "stdout",
     "output_type": "stream",
     "text": [
      "There were 153559 roles for actors in the 50s and 245713 roles for actors in the 90s.\n"
     ]
    }
   ],
   "source": [
    "#one variable for each decade\n",
    "fifties = cast[(cast[\"type\"] == \"actor\") & (cast[\"year\"].between(1950, 1959))]\n",
    "nineties = cast[(cast[\"type\"] == \"actor\") & (cast[\"year\"].between(1990, 1999))]\n",
    "\n",
    "fifties_count = fifties.shape[0]\n",
    "nineties_count = nineties.shape[0]\n",
    "print(f'There were {fifties_count} roles for actors in the 50s and {nineties_count} roles for actors in the 90s.')"
   ]
  },
  {
   "cell_type": "markdown",
   "id": "3c5ad9f2",
   "metadata": {},
   "source": [
    "### 8. How many roles for actors & actresses over time? Output should be a line graph"
   ]
  },
  {
   "cell_type": "code",
   "execution_count": 89,
   "id": "a4401c78",
   "metadata": {},
   "outputs": [
    {
     "name": "stdout",
     "output_type": "stream",
     "text": [
      "In this and other graphs for this assignment, we see a dropoff in 2025, as the dataset is limited in this year\n",
      "Sad to see that roles will go more often towards actors, but they historically have had more work.\n",
      "The shape on both lines is similar so there's a high correlation.\n"
     ]
    },
    {
     "data": {
      "image/png": "[encoded data removed]",
      "text/plain": [
       "<Figure size 640x480 with 1 Axes>"
      ]
     },
     "metadata": {},
     "output_type": "display_data"
    }
   ],
   "source": [
    "#creating plotline with matplotlib\n",
    "#first with the roles per year variable, sorted by actor and actress\n",
    "# first actors\n",
    "roles_per_year = (cast[cast[\"type\"].isin([\"actor\",\"actress\"])].groupby([\"year\", \"type\"]).size().reset_index(name=\"count\"))\n",
    "\n",
    "r_actors = roles_per_year[roles_per_year[\"type\"] == \"actor\"]\n",
    "r_actresses = roles_per_year[roles_per_year[\"type\"] == \"actress\"]\n",
    "\n",
    "# Plotting\n",
    "plt.plot(r_actors[\"year\"], r_actors[\"count\"], label=\"Actor\")\n",
    "plt.plot(r_actresses[\"year\"], r_actresses[\"count\"], label=\"Actress\")\n",
    "\n",
    "# Labels and title\n",
    "print('In this and other graphs for this assignment, we see a dropoff in 2025, as the dataset is limited in this year')\n",
    "print(\"Sad to see that roles will go more often towards actors, but they historically have had more work.\")\n",
    "print(\"The shape on both lines is similar so there's a high correlation.\")\n",
    "plt.xlabel(\"Year\")\n",
    "plt.ylabel(\"Number of Roles\")\n",
    "plt.title(\"Number of Roles for Actors and Actresses Over Time\")\n",
    "plt.legend()\n",
    "plt.show()\n"
   ]
  },
  {
   "cell_type": "code",
   "execution_count": 90,
   "id": "02cca89c-4fae-40a2-b8ae-f005678988ab",
   "metadata": {},
   "outputs": [
    {
     "data": {
      "image/png": "[encoded data removed]",
      "text/plain": [
       "<Figure size 1000x600 with 1 Axes>"
      ]
     },
     "metadata": {},
     "output_type": "display_data"
    }
   ],
   "source": [
    "# Group by year and category, count roles\n",
    "roles_per_year = (\n",
    "    cast[cast[\"type\"].isin([\"actor\", \"actress\"])]\n",
    "    .groupby([\"year\", \"type\"])\n",
    "    .size()\n",
    "    .reset_index(name=\"count\")\n",
    ")\n",
    "\n",
    "# Plot\n",
    "plt.figure(figsize=(10, 6))\n",
    "\n",
    "#  actors\n",
    "actors = roles_per_year[roles_per_year[\"type\"] == \"actor\"]\n",
    "plt.plot(actors[\"year\"], actors[\"count\"], label=\"Actor\")\n",
    "\n",
    "#  actresses\n",
    "actresses = roles_per_year[roles_per_year[\"type\"] == \"actress\"]\n",
    "plt.plot(actresses[\"year\"], actresses[\"count\"], label=\"Actress\")\n",
    "\n",
    "# Labels and title\n",
    "plt.xlabel(\"Year\")\n",
    "plt.ylabel(\"Number of Roles\")\n",
    "plt.title(\"Number of Roles for Actors and Actresses Over Time\")\n",
    "plt.legend()\n",
    "plt.show()"
   ]
  },
  {
   "cell_type": "markdown",
   "id": "5e3a04c7",
   "metadata": {},
   "source": [
    "### 9. How many \"leading roles\" were there in the 2000's?"
   ]
  },
  {
   "cell_type": "code",
   "execution_count": 92,
   "id": "01cc5e7f",
   "metadata": {},
   "outputs": [
    {
     "name": "stdout",
     "output_type": "stream",
     "text": [
      "In the 2000s there were 66569 leading roles\n"
     ]
    }
   ],
   "source": [
    "#filtering out for roles with only top billing\n",
    "#top billing is usually the first 2 or 3, so let's say 3 at most per movie\n",
    "leading_2000s = cast[\n",
    "    (cast[\"year\"].between(2000, 2009)) & \n",
    "    (cast[\"n\"] <= 3)\n",
    "]\n",
    "\n",
    "num_leading_2000s = leading_2000s.shape[0]\n",
    "print(f\"In the 2000s there were {num_leading_2000s} leading roles\")"
   ]
  },
  {
   "cell_type": "markdown",
   "id": "a60c91b4",
   "metadata": {},
   "source": [
    "### 10. How many roles received no ranking in the 2000's? 1950's. What conclusions can you draw from these two data points?"
   ]
  },
  {
   "cell_type": "code",
   "execution_count": 94,
   "id": "4b729250",
   "metadata": {},
   "outputs": [
    {
     "name": "stdout",
     "output_type": "stream",
     "text": [
      "Number of roles with no ranking in the 1950s: 95406\n",
      "Number of roles with no ranking in the 2000s: 232037\n",
      "The biggest reason is possibly the simple growth of the industry. I'd be interested in seeing the proportion of roles to box office.\n",
      "Actor unions have been around for a while and they usually fight for billing rights.\n"
     ]
    }
   ],
   "source": [
    "#similar as the above, we need to find the ones with na's starting with 50's\n",
    "no_rank_1950s = cast[\n",
    "    (cast[\"year\"].between(1950, 1959)) & \n",
    "    (cast[\"n\"].isna())\n",
    "]\n",
    "\n",
    "# roles with no ranking in the 2000s\n",
    "no_rank_2000s = cast[\n",
    "    (cast[\"year\"].between(2000, 2009)) & \n",
    "    (cast[\"n\"].isna())\n",
    "]\n",
    "\n",
    "# Count\n",
    "count_no_rank_1950s = no_rank_1950s.shape[0]\n",
    "count_no_rank_2000s = no_rank_2000s.shape[0]\n",
    "\n",
    "print(f\"Number of roles with no ranking in the 1950s: {count_no_rank_1950s}\")\n",
    "print(f\"Number of roles with no ranking in the 2000s: {count_no_rank_2000s}\")\n",
    "print(\"The biggest reason is possibly the simple growth of the industry. I'd be interested in seeing the proportion of roles to box office.\")\n",
    "print(\"Actor unions have been around for a while and they usually fight for billing rights.\")"
   ]
  },
  {
   "cell_type": "markdown",
   "id": "33d9c249",
   "metadata": {},
   "source": [
    "### 11. Plot the number of films made in each decade"
   ]
  },
  {
   "cell_type": "code",
   "execution_count": 96,
   "id": "3f6c5b5a",
   "metadata": {},
   "outputs": [
    {
     "name": "stderr",
     "output_type": "stream",
     "text": [
      "C:\\Users\\jjgzz\\AppData\\Local\\Temp\\ipykernel_38416\\2077320267.py:2: SettingWithCopyWarning: \n",
      "A value is trying to be set on a copy of a slice from a DataFrame.\n",
      "Try using .loc[row_indexer,col_indexer] = value instead\n",
      "\n",
      "See the caveats in the documentation: https://pandas.pydata.org/pandas-docs/stable/user_guide/indexing.html#returning-a-view-versus-a-copy\n",
      "  titles[\"decade\"] = titles[\"year\"] // 10 * 10\n"
     ]
    },
    {
     "data": {
      "image/png": "[encoded data removed]",
      "text/plain": [
       "<Figure size 1000x600 with 1 Axes>"
      ]
     },
     "metadata": {},
     "output_type": "display_data"
    }
   ],
   "source": [
    "# Create a decade column using floor division\n",
    "titles[\"decade\"] = titles[\"year\"] // 10 * 10\n",
    "\n",
    "# Group by decade and count movies\n",
    "films_per_decade = titles.groupby(\"decade\").size().reset_index(name=\"count\")\n",
    "\n",
    "# Plot as histogram\n",
    "plt.figure(figsize=(10, 6))\n",
    "plt.bar(films_per_decade[\"decade\"], films_per_decade[\"count\"], width=8, color=\"skyblue\")\n",
    "plt.xlabel(\"Decade\")\n",
    "plt.ylabel(\"Number of Films\")\n",
    "plt.title(\"Number of Films Made Each Decade\")\n",
    "plt.xticks(films_per_decade[\"decade\"])\n",
    "plt.show()"
   ]
  },
  {
   "cell_type": "markdown",
   "id": "7b8b93e3",
   "metadata": {},
   "source": [
    "### 12. Plot the number of films with a Rustler character over time"
   ]
  },
  {
   "cell_type": "code",
   "execution_count": 98,
   "id": "ed1bce02",
   "metadata": {},
   "outputs": [
    {
     "name": "stdout",
     "output_type": "stream",
     "text": [
      "Below you will see a chart with the number of films with a rustler character over time. Grouped by title, sans duplicates, then by years.\n",
      "It seems that this is correlated with the golden age of Westerns. We may see much fewer of these now.\n"
     ]
    },
    {
     "data": {
      "image/png": "[encoded data removed]",
      "text/plain": [
       "<Figure size 640x480 with 1 Axes>"
      ]
     },
     "metadata": {},
     "output_type": "display_data"
    }
   ],
   "source": [
    "\n",
    "# Filter for rows where the character contains 'Rustler' (case-insensitive)\n",
    "rustler_roles = cast[cast[\"character\"].str.contains(\"Rustler\", case=False, na=False)]\n",
    "\n",
    "#avoiding double counting films\n",
    "rustler_films = rustler_roles[[\"year\", \"title\"]].drop_duplicates()\n",
    "\n",
    "# grouped by year\n",
    "rustler_per_year = rustler_films.groupby(\"year\").size().reset_index(name=\"count\")\n",
    "\n",
    "print('Below you will see a chart with the number of films with a rustler character over time. Grouped by title, sans duplicates, then by years.')\n",
    "print('It seems that this is correlated with the golden age of Westerns. We may see much fewer of these now.')\n",
    "plt.plot(rustler_per_year[\"year\"], rustler_per_year[\"count\"], linestyle=\"-\")\n",
    "plt.xlabel(\"Year\")\n",
    "plt.ylabel(\"Number of Films with 'Rustler'\")\n",
    "plt.title(\"Number of Films with a 'Rustler' Character Over Time\")\n",
    "plt.show()"
   ]
  },
  {
   "cell_type": "markdown",
   "id": "1df5a8a7",
   "metadata": {},
   "source": [
    "### 13. What are the top ten character names of all time?"
   ]
  },
  {
   "cell_type": "code",
   "execution_count": 100,
   "id": "fc30c391",
   "metadata": {},
   "outputs": [
    {
     "name": "stdout",
     "output_type": "stream",
     "text": [
      "Below is the list of top character names. It seems a lot of actors are not billed with a named role, rather, they play generic parts.\n",
      "character\n",
      "Himself        19637\n",
      "Dancer         12019\n",
      "Extra          10848\n",
      "Reporter        7818\n",
      "Doctor          6963\n",
      "Party Guest     6786\n",
      "Student         6631\n",
      "Policeman       6424\n",
      "Bartender       6290\n",
      "Herself         6269\n",
      "Name: count, dtype: int64\n"
     ]
    }
   ],
   "source": [
    "top_char = cast['character'].value_counts().head(10)\n",
    "print('Below is the list of top character names. It seems a lot of actors are not billed with a named role, rather, they play generic parts.')\n",
    "print(top_char)"
   ]
  },
  {
   "cell_type": "markdown",
   "id": "febd5c97",
   "metadata": {},
   "source": [
    "### 14. Which actor appeared in the most films in the 1990's decade?"
   ]
  },
  {
   "cell_type": "code",
   "execution_count": 102,
   "id": "ed10c4df",
   "metadata": {},
   "outputs": [
    {
     "name": "stdout",
     "output_type": "stream",
     "text": [
      "Below you will see the actor with the most roles in the 1990s, with an impressive 130 roles.\n"
     ]
    },
    {
     "data": {
      "text/plain": [
       "name\n",
       "Shakti Kapoor    130\n",
       "Name: title, dtype: int64"
      ]
     },
     "execution_count": 102,
     "metadata": {},
     "output_type": "execute_result"
    }
   ],
   "source": [
    "#filter for 90's cast\n",
    "cast_1990s = cast[cast[\"year\"].between(1990, 1999)]\n",
    "\n",
    "#filter for actors\n",
    "actors_1990s = cast_1990s[cast_1990s[\"type\"] == \"actor\"]\n",
    "\n",
    "#count the individual actors\n",
    "actor_counts = (\n",
    "    actors_1990s.groupby(\"name\")[\"title\"]\n",
    "    .nunique()  # counts unique films per actor\n",
    "    .sort_values(ascending=False)\n",
    ")\n",
    "\n",
    "print('Below you will see the actor with the most roles in the 1990s, with an impressive 130 roles.')\n",
    "actor_counts.head(1)"
   ]
  },
  {
   "cell_type": "markdown",
   "id": "b2d57a18",
   "metadata": {},
   "source": [
    "### 15. What are the top 10 roles that start with Science?"
   ]
  },
  {
   "cell_type": "code",
   "execution_count": 104,
   "id": "64b41362",
   "metadata": {},
   "outputs": [
    {
     "name": "stdout",
     "output_type": "stream",
     "text": [
      "The top 10 roles that begin with Science are displayed below: character\n",
      "Science Teacher         57\n",
      "Science Fair Student     9\n",
      "Science Student          6\n",
      "Science Fair Judge       6\n",
      "Science Kid              5\n",
      "Science Fair Kid         5\n",
      "Science Reporter         5\n",
      "Science                  4\n",
      "Science Officer          3\n",
      "Science teacher          3\n",
      "Name: count, dtype: int64\n"
     ]
    }
   ],
   "source": [
    "science = cast[cast[\"character\"].str.startswith(\"Science\", na=False)]\n",
    "\n",
    "# Count the occurrences of each role\n",
    "top_science = science[\"character\"].value_counts().head(10)\n",
    "print(f'The top 10 roles that begin with Science are displayed below: {top_science}')"
   ]
  },
  {
   "cell_type": "markdown",
   "id": "7e37caf3",
   "metadata": {},
   "source": [
    "### 16. What film has the largest cast"
   ]
  },
  {
   "cell_type": "code",
   "execution_count": 106,
   "id": "1de674fc",
   "metadata": {},
   "outputs": [
    {
     "name": "stdout",
     "output_type": "stream",
     "text": [
      "The film with the largest cast size and cast size are listed below.\n"
     ]
    },
    {
     "data": {
      "text/html": [
       "<div>\n",
       "<style scoped>\n",
       "    .dataframe tbody tr th:only-of-type {\n",
       "        vertical-align: middle;\n",
       "    }\n",
       "\n",
       "    .dataframe tbody tr th {\n",
       "        vertical-align: top;\n",
       "    }\n",
       "\n",
       "    .dataframe thead th {\n",
       "        text-align: right;\n",
       "    }\n",
       "</style>\n",
       "<table border=\"1\" class=\"dataframe\">\n",
       "  <thead>\n",
       "    <tr style=\"text-align: right;\">\n",
       "      <th></th>\n",
       "      <th>title</th>\n",
       "      <th>cast_size</th>\n",
       "    </tr>\n",
       "  </thead>\n",
       "  <tbody>\n",
       "    <tr>\n",
       "      <th>11315</th>\n",
       "      <td>Around the World in 80 Days</td>\n",
       "      <td>1364</td>\n",
       "    </tr>\n",
       "  </tbody>\n",
       "</table>\n",
       "</div>"
      ],
      "text/plain": [
       "                             title  cast_size\n",
       "11315  Around the World in 80 Days       1364"
      ]
     },
     "execution_count": 106,
     "metadata": {},
     "output_type": "execute_result"
    }
   ],
   "source": [
    "#same as others, by cast size\n",
    "cast_counts = cast.groupby(\"title\").size().reset_index(name=\"cast_size\")\n",
    "\n",
    "# Find the film(s) with the largest cast\n",
    "largest_cast_film = cast_counts[cast_counts[\"cast_size\"] == cast_counts[\"cast_size\"].max()]\n",
    "print(\"The film with the largest cast size and cast size are listed below.\")\n",
    "largest_cast_film"
   ]
  },
  {
   "cell_type": "markdown",
   "id": "3a1a26ba",
   "metadata": {},
   "source": [
    "### 17. Generate descriptive statistics for cast size. Briefly comment on the results"
   ]
  },
  {
   "cell_type": "code",
   "execution_count": 108,
   "id": "b0592c92",
   "metadata": {},
   "outputs": [
    {
     "name": "stdout",
     "output_type": "stream",
     "text": [
      "It seems we have an average cast count of 20, standard deviation of 24. Since we can't have negatives, the upper limits are larger.\n",
      "Smallest cast is of one, so every movie has at least one person in it. No unmanned films to speak of.\n",
      "50th percentile being at 13 is interesting, as it's half of the 75th percentile.\n",
      "Meaning, movies with cast counts in the hundreds or thousands are outliers. Most may be under 50.\n"
     ]
    },
    {
     "data": {
      "text/html": [
       "<div>\n",
       "<style scoped>\n",
       "    .dataframe tbody tr th:only-of-type {\n",
       "        vertical-align: middle;\n",
       "    }\n",
       "\n",
       "    .dataframe tbody tr th {\n",
       "        vertical-align: top;\n",
       "    }\n",
       "\n",
       "    .dataframe thead th {\n",
       "        text-align: right;\n",
       "    }\n",
       "</style>\n",
       "<table border=\"1\" class=\"dataframe\">\n",
       "  <thead>\n",
       "    <tr style=\"text-align: right;\">\n",
       "      <th></th>\n",
       "      <th>cast_size</th>\n",
       "    </tr>\n",
       "  </thead>\n",
       "  <tbody>\n",
       "    <tr>\n",
       "      <th>count</th>\n",
       "      <td>168253.000000</td>\n",
       "    </tr>\n",
       "    <tr>\n",
       "      <th>mean</th>\n",
       "      <td>20.462595</td>\n",
       "    </tr>\n",
       "    <tr>\n",
       "      <th>std</th>\n",
       "      <td>24.206697</td>\n",
       "    </tr>\n",
       "    <tr>\n",
       "      <th>min</th>\n",
       "      <td>1.000000</td>\n",
       "    </tr>\n",
       "    <tr>\n",
       "      <th>25%</th>\n",
       "      <td>6.000000</td>\n",
       "    </tr>\n",
       "    <tr>\n",
       "      <th>50%</th>\n",
       "      <td>13.000000</td>\n",
       "    </tr>\n",
       "    <tr>\n",
       "      <th>75%</th>\n",
       "      <td>26.000000</td>\n",
       "    </tr>\n",
       "    <tr>\n",
       "      <th>max</th>\n",
       "      <td>1364.000000</td>\n",
       "    </tr>\n",
       "  </tbody>\n",
       "</table>\n",
       "</div>"
      ],
      "text/plain": [
       "           cast_size\n",
       "count  168253.000000\n",
       "mean       20.462595\n",
       "std        24.206697\n",
       "min         1.000000\n",
       "25%         6.000000\n",
       "50%        13.000000\n",
       "75%        26.000000\n",
       "max      1364.000000"
      ]
     },
     "execution_count": 108,
     "metadata": {},
     "output_type": "execute_result"
    }
   ],
   "source": [
    "#As we have a variable for cast counts, we can just describe it\n",
    "print(\"It seems we have an average cast count of 20, standard deviation of 24. Since we can't have negatives, the upper limits are larger.\")\n",
    "print(\"Smallest cast is of one, so every movie has at least one person in it. No unmanned films to speak of.\")\n",
    "print(\"50th percentile being at 13 is interesting, as it's half of the 75th percentile.\")\n",
    "print(\"Meaning, movies with cast counts in the hundreds or thousands are outliers. Most may be under 50.\")\n",
    "cast_counts.describe()"
   ]
  },
  {
   "cell_type": "markdown",
   "id": "57885f86",
   "metadata": {},
   "source": [
    "### 18. How many films has Natalie Portman been in in each year throughout her career?"
   ]
  },
  {
   "cell_type": "code",
   "execution_count": 110,
   "id": "e2457352",
   "metadata": {},
   "outputs": [
    {
     "data": {
      "text/html": [
       "<div>\n",
       "<style scoped>\n",
       "    .dataframe tbody tr th:only-of-type {\n",
       "        vertical-align: middle;\n",
       "    }\n",
       "\n",
       "    .dataframe tbody tr th {\n",
       "        vertical-align: top;\n",
       "    }\n",
       "\n",
       "    .dataframe thead th {\n",
       "        text-align: right;\n",
       "    }\n",
       "</style>\n",
       "<table border=\"1\" class=\"dataframe\">\n",
       "  <thead>\n",
       "    <tr style=\"text-align: right;\">\n",
       "      <th></th>\n",
       "      <th>year</th>\n",
       "      <th>num_films</th>\n",
       "    </tr>\n",
       "  </thead>\n",
       "  <tbody>\n",
       "    <tr>\n",
       "      <th>0</th>\n",
       "      <td>1995</td>\n",
       "      <td>1</td>\n",
       "    </tr>\n",
       "    <tr>\n",
       "      <th>1</th>\n",
       "      <td>1996</td>\n",
       "      <td>3</td>\n",
       "    </tr>\n",
       "    <tr>\n",
       "      <th>2</th>\n",
       "      <td>1999</td>\n",
       "      <td>2</td>\n",
       "    </tr>\n",
       "    <tr>\n",
       "      <th>3</th>\n",
       "      <td>2000</td>\n",
       "      <td>1</td>\n",
       "    </tr>\n",
       "    <tr>\n",
       "      <th>4</th>\n",
       "      <td>2001</td>\n",
       "      <td>1</td>\n",
       "    </tr>\n",
       "    <tr>\n",
       "      <th>5</th>\n",
       "      <td>2002</td>\n",
       "      <td>1</td>\n",
       "    </tr>\n",
       "    <tr>\n",
       "      <th>6</th>\n",
       "      <td>2003</td>\n",
       "      <td>1</td>\n",
       "    </tr>\n",
       "    <tr>\n",
       "      <th>7</th>\n",
       "      <td>2004</td>\n",
       "      <td>2</td>\n",
       "    </tr>\n",
       "    <tr>\n",
       "      <th>8</th>\n",
       "      <td>2005</td>\n",
       "      <td>4</td>\n",
       "    </tr>\n",
       "    <tr>\n",
       "      <th>9</th>\n",
       "      <td>2006</td>\n",
       "      <td>1</td>\n",
       "    </tr>\n",
       "    <tr>\n",
       "      <th>10</th>\n",
       "      <td>2007</td>\n",
       "      <td>3</td>\n",
       "    </tr>\n",
       "    <tr>\n",
       "      <th>11</th>\n",
       "      <td>2008</td>\n",
       "      <td>1</td>\n",
       "    </tr>\n",
       "    <tr>\n",
       "      <th>12</th>\n",
       "      <td>2009</td>\n",
       "      <td>2</td>\n",
       "    </tr>\n",
       "    <tr>\n",
       "      <th>13</th>\n",
       "      <td>2010</td>\n",
       "      <td>3</td>\n",
       "    </tr>\n",
       "    <tr>\n",
       "      <th>14</th>\n",
       "      <td>2011</td>\n",
       "      <td>3</td>\n",
       "    </tr>\n",
       "    <tr>\n",
       "      <th>15</th>\n",
       "      <td>2013</td>\n",
       "      <td>1</td>\n",
       "    </tr>\n",
       "    <tr>\n",
       "      <th>16</th>\n",
       "      <td>2015</td>\n",
       "      <td>4</td>\n",
       "    </tr>\n",
       "    <tr>\n",
       "      <th>17</th>\n",
       "      <td>2016</td>\n",
       "      <td>3</td>\n",
       "    </tr>\n",
       "    <tr>\n",
       "      <th>18</th>\n",
       "      <td>2017</td>\n",
       "      <td>1</td>\n",
       "    </tr>\n",
       "  </tbody>\n",
       "</table>\n",
       "</div>"
      ],
      "text/plain": [
       "    year  num_films\n",
       "0   1995          1\n",
       "1   1996          3\n",
       "2   1999          2\n",
       "3   2000          1\n",
       "4   2001          1\n",
       "5   2002          1\n",
       "6   2003          1\n",
       "7   2004          2\n",
       "8   2005          4\n",
       "9   2006          1\n",
       "10  2007          3\n",
       "11  2008          1\n",
       "12  2009          2\n",
       "13  2010          3\n",
       "14  2011          3\n",
       "15  2013          1\n",
       "16  2015          4\n",
       "17  2016          3\n",
       "18  2017          1"
      ]
     },
     "execution_count": 110,
     "metadata": {},
     "output_type": "execute_result"
    }
   ],
   "source": [
    "#counting natalies\n",
    "portman_roles = cast[cast[\"name\"].str.lower() == \"natalie portman\"]\n",
    "\n",
    "# unique films per year\n",
    "portman_fpy = (\n",
    "    portman_roles.groupby(\"year\")[\"title\"]\n",
    "    .nunique()\n",
    "    .reset_index(name=\"num_films\")\n",
    ")\n",
    "\n",
    "#She's had some busy periods, pretty consistent career all in all. Loved her debut in Leon. fpy - films per year\n",
    "portman_fpy"
   ]
  },
  {
   "cell_type": "markdown",
   "id": "1bff19c5",
   "metadata": {},
   "source": [
    "### 19. How many films did Natalie Portman appear in each year where where she was either the top star or co-star?"
   ]
  },
  {
   "cell_type": "code",
   "execution_count": 155,
   "id": "e2f4d043",
   "metadata": {},
   "outputs": [
    {
     "name": "stdout",
     "output_type": "stream",
     "text": [
      "Only 6 years in which she didn't get top billing. Great trajectory\n"
     ]
    },
    {
     "data": {
      "text/html": [
       "<div>\n",
       "<style scoped>\n",
       "    .dataframe tbody tr th:only-of-type {\n",
       "        vertical-align: middle;\n",
       "    }\n",
       "\n",
       "    .dataframe tbody tr th {\n",
       "        vertical-align: top;\n",
       "    }\n",
       "\n",
       "    .dataframe thead th {\n",
       "        text-align: right;\n",
       "    }\n",
       "</style>\n",
       "<table border=\"1\" class=\"dataframe\">\n",
       "  <thead>\n",
       "    <tr style=\"text-align: right;\">\n",
       "      <th></th>\n",
       "      <th>year</th>\n",
       "      <th>num_films</th>\n",
       "    </tr>\n",
       "  </thead>\n",
       "  <tbody>\n",
       "    <tr>\n",
       "      <th>0</th>\n",
       "      <td>1999</td>\n",
       "      <td>1</td>\n",
       "    </tr>\n",
       "    <tr>\n",
       "      <th>1</th>\n",
       "      <td>2000</td>\n",
       "      <td>1</td>\n",
       "    </tr>\n",
       "    <tr>\n",
       "      <th>2</th>\n",
       "      <td>2002</td>\n",
       "      <td>1</td>\n",
       "    </tr>\n",
       "    <tr>\n",
       "      <th>3</th>\n",
       "      <td>2005</td>\n",
       "      <td>3</td>\n",
       "    </tr>\n",
       "    <tr>\n",
       "      <th>4</th>\n",
       "      <td>2006</td>\n",
       "      <td>1</td>\n",
       "    </tr>\n",
       "    <tr>\n",
       "      <th>5</th>\n",
       "      <td>2007</td>\n",
       "      <td>1</td>\n",
       "    </tr>\n",
       "    <tr>\n",
       "      <th>6</th>\n",
       "      <td>2008</td>\n",
       "      <td>1</td>\n",
       "    </tr>\n",
       "    <tr>\n",
       "      <th>7</th>\n",
       "      <td>2009</td>\n",
       "      <td>1</td>\n",
       "    </tr>\n",
       "    <tr>\n",
       "      <th>8</th>\n",
       "      <td>2010</td>\n",
       "      <td>1</td>\n",
       "    </tr>\n",
       "    <tr>\n",
       "      <th>9</th>\n",
       "      <td>2011</td>\n",
       "      <td>2</td>\n",
       "    </tr>\n",
       "    <tr>\n",
       "      <th>10</th>\n",
       "      <td>2013</td>\n",
       "      <td>1</td>\n",
       "    </tr>\n",
       "    <tr>\n",
       "      <th>11</th>\n",
       "      <td>2015</td>\n",
       "      <td>2</td>\n",
       "    </tr>\n",
       "    <tr>\n",
       "      <th>12</th>\n",
       "      <td>2016</td>\n",
       "      <td>2</td>\n",
       "    </tr>\n",
       "  </tbody>\n",
       "</table>\n",
       "</div>"
      ],
      "text/plain": [
       "    year  num_films\n",
       "0   1999          1\n",
       "1   2000          1\n",
       "2   2002          1\n",
       "3   2005          3\n",
       "4   2006          1\n",
       "5   2007          1\n",
       "6   2008          1\n",
       "7   2009          1\n",
       "8   2010          1\n",
       "9   2011          2\n",
       "10  2013          1\n",
       "11  2015          2\n",
       "12  2016          2"
      ]
     },
     "execution_count": 155,
     "metadata": {},
     "output_type": "execute_result"
    }
   ],
   "source": [
    "#filter the past variable for top billing roles not NA\n",
    "portman_lead = portman_roles[(portman_roles[\"n\"].notna()) & (portman_roles[\"n\"] <= 2)]\n",
    "\n",
    "#similar as in other past functions this assignment, leads per year\n",
    "portman_lpy = (\n",
    "    portman_lead.groupby(\"year\")[\"title\"]\n",
    "    .nunique()\n",
    "    .reset_index(name=\"num_films\")\n",
    ")\n",
    "\n",
    "print(\"Only 6 years in which she didn't get top billing. Great trajectory\")\n",
    "portman_lpy"
   ]
  },
  {
   "cell_type": "markdown",
   "id": "8eda704b",
   "metadata": {},
   "source": [
    "### 20. Determine how many roles for actor or actress by decade. Plot the output "
   ]
  },
  {
   "cell_type": "code",
   "execution_count": 114,
   "id": "6abd6fe1",
   "metadata": {},
   "outputs": [
    {
     "data": {
      "image/png": "[encoded data removed]",
      "text/plain": [
       "<Figure size 640x480 with 1 Axes>"
      ]
     },
     "metadata": {},
     "output_type": "display_data"
    }
   ],
   "source": [
    "#filter for actors, actresses\n",
    "roles = cast[cast[\"type\"].isin([\"actor\", \"actress\"])]\n",
    "\n",
    "#floor division\n",
    "roles[\"decade\"] = (roles[\"year\"] // 10) * 10\n",
    "\n",
    "#group by decade\n",
    "roles_per_decade = roles.groupby([\"decade\", \"type\"]).size().reset_index(name=\"count\")\n",
    "\n",
    "plt.figure()\n",
    "for type in [\"actor\", \"actress\"]:\n",
    "    subset = roles_per_decade[roles_per_decade[\"type\"] == type]\n",
    "    plt.plot(subset[\"decade\"], subset[\"count\"], linestyle=\"-\", label=type.capitalize())\n",
    "\n",
    "plt.xlabel(\"Decade\")\n",
    "plt.ylabel(\"Number of Roles\")\n",
    "plt.title(\"Number of Roles for Actors and Actresses by Decade\")\n",
    "plt.show()"
   ]
  },
  {
   "cell_type": "markdown",
   "id": "fffe663b",
   "metadata": {},
   "source": [
    "### 21. Determine and comment on the day of the week that movies are released. What is notable about release days and months throughout the year? (Use pd.pivot_table)"
   ]
  },
  {
   "cell_type": "code",
   "execution_count": 116,
   "id": "5d3f6e03",
   "metadata": {},
   "outputs": [
    {
     "name": "stdout",
     "output_type": "stream",
     "text": [
      "We see below that many movies are released on Thursday or Friday. More are released on other days than I would have expected.\n"
     ]
    },
    {
     "data": {
      "text/html": [
       "<div>\n",
       "<style scoped>\n",
       "    .dataframe tbody tr th:only-of-type {\n",
       "        vertical-align: middle;\n",
       "    }\n",
       "\n",
       "    .dataframe tbody tr th {\n",
       "        vertical-align: top;\n",
       "    }\n",
       "\n",
       "    .dataframe thead th {\n",
       "        text-align: right;\n",
       "    }\n",
       "</style>\n",
       "<table border=\"1\" class=\"dataframe\">\n",
       "  <thead>\n",
       "    <tr style=\"text-align: right;\">\n",
       "      <th></th>\n",
       "      <th>title</th>\n",
       "    </tr>\n",
       "    <tr>\n",
       "      <th>weekday</th>\n",
       "      <th></th>\n",
       "    </tr>\n",
       "  </thead>\n",
       "  <tbody>\n",
       "    <tr>\n",
       "      <th>Friday</th>\n",
       "      <td>163174</td>\n",
       "    </tr>\n",
       "    <tr>\n",
       "      <th>Thursday</th>\n",
       "      <td>125746</td>\n",
       "    </tr>\n",
       "    <tr>\n",
       "      <th>Wednesday</th>\n",
       "      <td>53439</td>\n",
       "    </tr>\n",
       "    <tr>\n",
       "      <th>Monday</th>\n",
       "      <td>37209</td>\n",
       "    </tr>\n",
       "    <tr>\n",
       "      <th>Saturday</th>\n",
       "      <td>31331</td>\n",
       "    </tr>\n",
       "    <tr>\n",
       "      <th>Tuesday</th>\n",
       "      <td>16762</td>\n",
       "    </tr>\n",
       "    <tr>\n",
       "      <th>Sunday</th>\n",
       "      <td>15823</td>\n",
       "    </tr>\n",
       "  </tbody>\n",
       "</table>\n",
       "</div>"
      ],
      "text/plain": [
       "            title\n",
       "weekday          \n",
       "Friday     163174\n",
       "Thursday   125746\n",
       "Wednesday   53439\n",
       "Monday      37209\n",
       "Saturday    31331\n",
       "Tuesday     16762\n",
       "Sunday      15823"
      ]
     },
     "execution_count": 116,
     "metadata": {},
     "output_type": "execute_result"
    }
   ],
   "source": [
    "#date to datetime\n",
    "release_dates[\"date\"] = pd.to_datetime(release_dates[\"date\"], errors=\"coerce\")\n",
    "\n",
    "# filter out rows with missing or future dats\n",
    "release_dates = release_dates[release_dates[\"date\"].dt.year <= 2025]\n",
    "\n",
    "# Extract day of the week and month\n",
    "release_dates[\"weekday\"] = release_dates[\"date\"].dt.day_name()\n",
    "release_dates[\"month\"] = release_dates[\"date\"].dt.month_name()\n",
    "\n",
    "# Pivot table: count of movies by weekday\n",
    "weekday_counts = pd.pivot_table(\n",
    "    release_dates, \n",
    "    index=\"weekday\", \n",
    "    values=\"title\", \n",
    "    aggfunc=\"count\"\n",
    ").sort_values(\"title\", ascending=False)\n",
    "\n",
    "print(\"We see below that many movies are released on Thursday or Friday. More are released on other days than I would have expected.\")\n",
    "weekday_counts"
   ]
  },
  {
   "cell_type": "markdown",
   "id": "88b4b805",
   "metadata": {},
   "source": [
    "### 22. Can you plot the pivot table? Is the output \"correct\"? Can you fix it?"
   ]
  },
  {
   "cell_type": "code",
   "execution_count": 118,
   "id": "07152c8b",
   "metadata": {},
   "outputs": [
    {
     "name": "stdout",
     "output_type": "stream",
     "text": [
      "By resetting the index, we can properly show the scale of releases by day of the week\n"
     ]
    },
    {
     "data": {
      "image/png": "[encoded data removed]",
      "text/plain": [
       "<Figure size 640x480 with 1 Axes>"
      ]
     },
     "metadata": {},
     "output_type": "display_data"
    }
   ],
   "source": [
    "# Reset index\n",
    "weekday_reset = weekday_counts.reset_index()\n",
    "\n",
    "# Plot using 'weekday' on x-axis and count on y-axis\n",
    "print(\"By resetting the index, we can properly show the scale of releases by day of the week\")\n",
    "plt.figure()\n",
    "plt.bar(weekday_reset[\"weekday\"], weekday_reset[\"title\"])\n",
    "plt.xlabel(\"Day of the Week\")\n",
    "plt.ylabel(\"Number of Movie Releases\")\n",
    "plt.title(\"Movie Releases by Day of the Week\")\n",
    "plt.show()"
   ]
  },
  {
   "cell_type": "markdown",
   "id": "19fc8bc4",
   "metadata": {},
   "source": [
    "### 23. What films did actors in Star Wars go on to appear in? "
   ]
  },
  {
   "cell_type": "code",
   "execution_count": 120,
   "id": "35e5f456",
   "metadata": {},
   "outputs": [
    {
     "name": "stdout",
     "output_type": "stream",
     "text": [
      "Though I would like to show you the full list, the list is too big.\n",
      "So many people have appeared in Star Wars, some with long and prolific careers, such as Sir Christopher Lee,\n",
      "It would be an insane undertaking to store them all. Therefore, you have this variable, and I'll export this to a csv for your perusal.\n"
     ]
    },
    {
     "data": {
      "text/html": [
       "<div>\n",
       "<style scoped>\n",
       "    .dataframe tbody tr th:only-of-type {\n",
       "        vertical-align: middle;\n",
       "    }\n",
       "\n",
       "    .dataframe tbody tr th {\n",
       "        vertical-align: top;\n",
       "    }\n",
       "\n",
       "    .dataframe thead th {\n",
       "        text-align: right;\n",
       "    }\n",
       "</style>\n",
       "<table border=\"1\" class=\"dataframe\">\n",
       "  <thead>\n",
       "    <tr style=\"text-align: right;\">\n",
       "      <th></th>\n",
       "      <th>title</th>\n",
       "      <th>year</th>\n",
       "    </tr>\n",
       "  </thead>\n",
       "  <tbody>\n",
       "    <tr>\n",
       "      <th>1902637</th>\n",
       "      <td>Caste</td>\n",
       "      <td>1930</td>\n",
       "    </tr>\n",
       "    <tr>\n",
       "      <th>1902649</th>\n",
       "      <td>Little Miss Nobody</td>\n",
       "      <td>1933</td>\n",
       "    </tr>\n",
       "    <tr>\n",
       "      <th>1902641</th>\n",
       "      <td>Get Your Man</td>\n",
       "      <td>1934</td>\n",
       "    </tr>\n",
       "    <tr>\n",
       "      <th>1902658</th>\n",
       "      <td>The Way of Youth</td>\n",
       "      <td>1934</td>\n",
       "    </tr>\n",
       "    <tr>\n",
       "      <th>821960</th>\n",
       "      <td>Evensong</td>\n",
       "      <td>1934</td>\n",
       "    </tr>\n",
       "    <tr>\n",
       "      <th>...</th>\n",
       "      <td>...</td>\n",
       "      <td>...</td>\n",
       "    </tr>\n",
       "    <tr>\n",
       "      <th>3166655</th>\n",
       "      <td>Chaos Walking</td>\n",
       "      <td>2019</td>\n",
       "    </tr>\n",
       "    <tr>\n",
       "      <th>2681415</th>\n",
       "      <td>The Rhythm Section</td>\n",
       "      <td>2019</td>\n",
       "    </tr>\n",
       "    <tr>\n",
       "      <th>2742341</th>\n",
       "      <td>Godzilla: King of Monsters</td>\n",
       "      <td>2019</td>\n",
       "    </tr>\n",
       "    <tr>\n",
       "      <th>684060</th>\n",
       "      <td>Untitled Indiana Jones Project</td>\n",
       "      <td>2020</td>\n",
       "    </tr>\n",
       "    <tr>\n",
       "      <th>2663224</th>\n",
       "      <td>The Loud House</td>\n",
       "      <td>2020</td>\n",
       "    </tr>\n",
       "  </tbody>\n",
       "</table>\n",
       "<p>4605 rows × 2 columns</p>\n",
       "</div>"
      ],
      "text/plain": [
       "                                  title  year\n",
       "1902637                           Caste  1930\n",
       "1902649              Little Miss Nobody  1933\n",
       "1902641                    Get Your Man  1934\n",
       "1902658                The Way of Youth  1934\n",
       "821960                         Evensong  1934\n",
       "...                                 ...   ...\n",
       "3166655                   Chaos Walking  2019\n",
       "2681415              The Rhythm Section  2019\n",
       "2742341      Godzilla: King of Monsters  2019\n",
       "684060   Untitled Indiana Jones Project  2020\n",
       "2663224                  The Loud House  2020\n",
       "\n",
       "[4605 rows x 2 columns]"
      ]
     },
     "execution_count": 120,
     "metadata": {},
     "output_type": "execute_result"
    }
   ],
   "source": [
    "#identify actors in star wars\n",
    "sw_cast = cast[cast[\"title\"].str.contains(\"Star Wars\", case=False, na=False)][\"name\"].unique()\n",
    "\n",
    "#find the other films\n",
    "other_films = cast[cast[\"name\"].isin(sw_cast)]\n",
    "\n",
    "#exclude star wars\n",
    "other_films = other_films[~other_films[\"title\"].str.contains(\"Star Wars\", case=False, na=False)]\n",
    "\n",
    "#group by title, year, remove duplicates\n",
    "other_films_unique = other_films[[\"title\", \"year\"]].drop_duplicates().sort_values(\"year\")\n",
    "\n",
    "output_path = r\"C:\\Users\\jjgzz\\OIM7502_F25\\data\\star_wars_other_films.csv\"\n",
    "other_films_unique.to_csv(output_path, index = False)\n",
    "\n",
    "print(\"Though I would like to show you the full list, the list is too big.\")\n",
    "print(\"So many people have appeared in Star Wars, some with long and prolific careers, such as Sir Christopher Lee,\")\n",
    "print(\"It would be an insane undertaking to store them all. Therefore, you have this variable, and I'll export this to a csv for your perusal.\")\n",
    "other_films_unique"
   ]
  },
  {
   "cell_type": "code",
   "execution_count": null,
   "id": "2de76e6c",
   "metadata": {},
   "outputs": [],
   "source": []
  }
 ],
 "metadata": {
  "kernelspec": {
   "display_name": "Python [conda env:base] *",
   "language": "python",
   "name": "conda-base-py"
  },
  "language_info": {
   "codemirror_mode": {
    "name": "ipython",
    "version": 3
   },
   "file_extension": ".py",
   "mimetype": "text/x-python",
   "name": "python",
   "nbconvert_exporter": "python",
   "pygments_lexer": "ipython3",
   "version": "3.12.7"
  }
 },
 "nbformat": 4,
 "nbformat_minor": 5
}
