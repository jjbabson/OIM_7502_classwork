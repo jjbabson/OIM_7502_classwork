{
 "cells": [
  {
   "cell_type": "markdown",
   "id": "9383bafa",
   "metadata": {},
   "source": [
    "### Python Programming Concepts"
   ]
  },
  {
   "cell_type": "markdown",
   "id": "17df7d6e",
   "metadata": {},
   "source": [
    "#### 1. Create a variable to store the value 500 for sales"
   ]
  },
  {
   "cell_type": "code",
   "execution_count": 1,
   "id": "a5f43c2f",
   "metadata": {},
   "outputs": [],
   "source": [
    "sales = 500"
   ]
  },
  {
   "cell_type": "markdown",
   "id": "6dc8b9ea",
   "metadata": {},
   "source": [
    "#### 2. Create a variable to store several values:  \n",
    "* sales: 500, 475, 625\n",
    "* integers 1 - 9 "
   ]
  },
  {
   "cell_type": "code",
   "execution_count": 10,
   "id": "902fe3bd",
   "metadata": {},
   "outputs": [
    {
     "name": "stdout",
     "output_type": "stream",
     "text": [
      "[500, 475, 625]\n"
     ]
    }
   ],
   "source": [
    "sales = [500,475,625]\n",
    "print(sales)"
   ]
  },
  {
   "cell_type": "code",
   "execution_count": 3,
   "id": "bbc89976-1dc6-4515-8b0e-0e305b948f87",
   "metadata": {},
   "outputs": [
    {
     "name": "stdout",
     "output_type": "stream",
     "text": [
      "[0, 1, 2, 3, 4, 5, 6, 7, 8, 9]\n"
     ]
    }
   ],
   "source": [
    "integers = list(range(0,10))\n",
    "print(integers)"
   ]
  },
  {
   "cell_type": "markdown",
   "id": "62e55953",
   "metadata": {},
   "source": [
    "#### 3. Create a variable to store the names and email addresses for a number of customers\n",
    "* John, john@some.com; Ann, ann@some.com"
   ]
  },
  {
   "cell_type": "code",
   "execution_count": 5,
   "id": "03f2b161",
   "metadata": {},
   "outputs": [
    {
     "data": {
      "text/plain": [
       "{'John': {'email': 'john@some.com'}, 'Ann': {'email': 'ann@some.com'}}"
      ]
     },
     "execution_count": 5,
     "metadata": {},
     "output_type": "execute_result"
    }
   ],
   "source": [
    "customers = {\n",
    "    \"John\": {\"email\": \"john@some.com\"},\n",
    "    \"Ann\": {\"email\": \"ann@some.com\"}\n",
    "}\n",
    "\n",
    "customers"
   ]
  },
  {
   "cell_type": "markdown",
   "id": "d6b1e8c6",
   "metadata": {},
   "source": [
    "#### 4. Use Python to generate a random value based on each of following:\n",
    "1. between 0 and 1\n",
    "2. the standard normal distribution (rounded to two decimal places)\n",
    "3. a value between 1 and 10\n",
    "4. either H or T"
   ]
  },
  {
   "cell_type": "code",
   "execution_count": 49,
   "id": "2d6a6364-87cf-4cb7-85d0-91e8cd6b9eaf",
   "metadata": {},
   "outputs": [],
   "source": [
    "import random"
   ]
  },
  {
   "cell_type": "code",
   "execution_count": 50,
   "id": "a8efc6fc",
   "metadata": {
    "scrolled": true
   },
   "outputs": [
    {
     "data": {
      "text/plain": [
       "0.03283257402176731"
      ]
     },
     "execution_count": 50,
     "metadata": {},
     "output_type": "execute_result"
    }
   ],
   "source": [
    "random.random()"
   ]
  },
  {
   "cell_type": "code",
   "execution_count": 56,
   "id": "f20b6134-2d52-4465-a867-e7b69e9a9d94",
   "metadata": {},
   "outputs": [],
   "source": [
    "from random import random, normalvariate, choice"
   ]
  },
  {
   "cell_type": "code",
   "execution_count": 53,
   "id": "3a150c3e",
   "metadata": {},
   "outputs": [
    {
     "data": {
      "text/plain": [
       "7"
      ]
     },
     "execution_count": 53,
     "metadata": {},
     "output_type": "execute_result"
    }
   ],
   "source": [
    "randint(1,10)"
   ]
  },
  {
   "cell_type": "code",
   "execution_count": 55,
   "id": "f80f4b3b",
   "metadata": {},
   "outputs": [
    {
     "data": {
      "text/plain": [
       "-0.6775035582098916"
      ]
     },
     "execution_count": 55,
     "metadata": {},
     "output_type": "execute_result"
    }
   ],
   "source": [
    "normalvariate()"
   ]
  },
  {
   "cell_type": "code",
   "execution_count": 57,
   "id": "bdb52b86",
   "metadata": {},
   "outputs": [
    {
     "data": {
      "text/plain": [
       "'T'"
      ]
     },
     "execution_count": 57,
     "metadata": {},
     "output_type": "execute_result"
    }
   ],
   "source": [
    "choice([\"H\",\"T\"])"
   ]
  },
  {
   "cell_type": "markdown",
   "id": "7eddf06a",
   "metadata": {},
   "source": [
    "#### 5. Use Python to determine your current working directory"
   ]
  },
  {
   "cell_type": "code",
   "execution_count": 13,
   "id": "d8f79474",
   "metadata": {},
   "outputs": [
    {
     "data": {
      "text/plain": [
       "'C:\\\\Users\\\\jjgzz\\\\OIM7502_F25'"
      ]
     },
     "execution_count": 13,
     "metadata": {},
     "output_type": "execute_result"
    }
   ],
   "source": [
    "import os\n",
    "os.getcwd()"
   ]
  },
  {
   "cell_type": "markdown",
   "id": "fc43ec50",
   "metadata": {},
   "source": [
    "#### 6. Use Python to determine how many days until New Year's Day"
   ]
  },
  {
   "cell_type": "code",
   "execution_count": 25,
   "id": "13f630fe",
   "metadata": {},
   "outputs": [
    {
     "name": "stdout",
     "output_type": "stream",
     "text": [
      "110\n"
     ]
    }
   ],
   "source": [
    "from datetime import datetime\n",
    "now = datetime.now()  # Get current date and time\n",
    "\n",
    "new_year = datetime(now.year + 1, 1, 1)\n",
    "\n",
    "countdown = (new_year - now).days\n",
    "\n",
    "print(countdown)"
   ]
  },
  {
   "cell_type": "markdown",
   "id": "2ba4ea92",
   "metadata": {},
   "source": [
    "#### 7. Write a short program that displays the future value of 1,000 earning 5%  at the end of each year for the next 5 years"
   ]
  },
  {
   "cell_type": "code",
   "execution_count": 38,
   "id": "6fef4a8c",
   "metadata": {},
   "outputs": [
    {
     "name": "stdout",
     "output_type": "stream",
     "text": [
      "Year 1: 1050.00\n",
      "Year 2: 1102.50\n",
      "Year 3: 1157.63\n",
      "Year 4: 1215.51\n",
      "Year 5: 1276.28\n"
     ]
    }
   ],
   "source": [
    "def future_value():\n",
    "    pv = 1000 \n",
    "    ir = 0.05   \n",
    "    years = 5\n",
    "\n",
    "    for year in range(1, years + 1):\n",
    "        fv = pv * (1 + ir) ** year\n",
    "        print(f\"Year {year}: {fv:.2f}\")\n",
    "\n",
    "future_value()\n"
   ]
  },
  {
   "cell_type": "markdown",
   "id": "150201c8",
   "metadata": {},
   "source": [
    "#### 8. Write a short program that prompts a user to enter a stock symbol and press enter. Add each symbol entered to a variable. The program should run until the user presses the enter key without entering anything (empty string) "
   ]
  },
  {
   "cell_type": "code",
   "execution_count": 54,
   "id": "931a346f",
   "metadata": {},
   "outputs": [
    {
     "name": "stdin",
     "output_type": "stream",
     "text": [
      "Enter a symbol, or enter to finish: d\n",
      "Enter a symbol, or enter to finish: w\n",
      "Enter a symbol, or enter to finish: \n"
     ]
    },
    {
     "name": "stdout",
     "output_type": "stream",
     "text": [
      "You added: ['d', 'w']\n"
     ]
    }
   ],
   "source": [
    "def stock():\n",
    "    stocks = []\n",
    "\n",
    "    while True:\n",
    "        symbol = input(\"Enter a symbol, or enter to finish:\")\n",
    "\n",
    "        if symbol == \"\": \n",
    "            break\n",
    "        else:\n",
    "            stocks.append(symbol)\n",
    "\n",
    "    print(\"You added:\", stocks)\n",
    "stock()"
   ]
  },
  {
   "cell_type": "markdown",
   "id": "fc2a7592",
   "metadata": {},
   "source": [
    "#### 9. Write the code necessary to calculate the sum of the square differences of a group of values : \n",
    "58, 32, 37, 41, 36, 36, 54, 37, 25, 53\n",
    "##### $\\Sigma $(${x}$ - $\\bar{x}$)$^2$"
   ]
  },
  {
   "cell_type": "code",
   "execution_count": 60,
   "id": "13d9a6c5",
   "metadata": {
    "scrolled": true
   },
   "outputs": [
    {
     "name": "stdout",
     "output_type": "stream",
     "text": [
      "1020.9\n"
     ]
    }
   ],
   "source": [
    "group = [58, 32, 37, 41, 36, 36, 54, 37, 25, 53]\n",
    "mean = sum(group)/len(group)\n",
    "ssd = sum((x - mean) ** 2 for x in group)\n",
    "\n",
    "print(ssd)"
   ]
  },
  {
   "cell_type": "markdown",
   "id": "6d6f2e64",
   "metadata": {},
   "source": [
    "#### 10. Opening, reading and writing files"
   ]
  },
  {
   "cell_type": "code",
   "execution_count": 72,
   "id": "f7fa569d",
   "metadata": {},
   "outputs": [
    {
     "ename": "UnsupportedOperation",
     "evalue": "not writable",
     "output_type": "error",
     "traceback": [
      "\u001b[1;31m---------------------------------------------------------------------------\u001b[0m",
      "\u001b[1;31mUnsupportedOperation\u001b[0m                      Traceback (most recent call last)",
      "Cell \u001b[1;32mIn[72], line 4\u001b[0m\n\u001b[0;32m      2\u001b[0m \u001b[38;5;28;01mwith\u001b[39;00m \u001b[38;5;28mopen\u001b[39m(\u001b[38;5;124m'\u001b[39m\u001b[38;5;124mworkfile\u001b[39m\u001b[38;5;124m'\u001b[39m, encoding\u001b[38;5;241m=\u001b[39m\u001b[38;5;28;01mNone\u001b[39;00m) \u001b[38;5;28;01mas\u001b[39;00m f:\n\u001b[0;32m      3\u001b[0m         read_data \u001b[38;5;241m=\u001b[39m f\u001b[38;5;241m.\u001b[39mread()\n\u001b[1;32m----> 4\u001b[0m         f\u001b[38;5;241m.\u001b[39mwrite(\u001b[38;5;124m'\u001b[39m\u001b[38;5;124mTest\u001b[39m\u001b[38;5;124m'\u001b[39m)\n",
      "\u001b[1;31mUnsupportedOperation\u001b[0m: not writable"
     ]
    }
   ],
   "source": [
    "#Hypothetically\n",
    "f = open('workfile', 'w', encoding=None)\n",
    "with open('workfile', encoding=None) as f:\n",
    "        read_data = f.read()\n",
    "        f.write('Test') "
   ]
  },
  {
   "cell_type": "markdown",
   "id": "eec548d6",
   "metadata": {},
   "source": [
    "#### 11. Create a function the will simulate rolling two die and return the value of each and and the sum "
   ]
  },
  {
   "cell_type": "code",
   "execution_count": 108,
   "id": "bb115cdc",
   "metadata": {},
   "outputs": [
    {
     "name": "stdout",
     "output_type": "stream",
     "text": [
      "Total is: 9\n"
     ]
    }
   ],
   "source": [
    "import random\n",
    "from random import randint\n",
    "def die():\n",
    "    roll1 = randint(1,6)\n",
    "    roll2 = randint(1,6)\n",
    "    total = roll1 + roll2\n",
    "    return total\n",
    "\n",
    "rolls = die()\n",
    "print(\"Total is:\", rolls)\n",
    "    "
   ]
  },
  {
   "cell_type": "markdown",
   "id": "21556d7f",
   "metadata": {},
   "source": [
    "#### 12. Write the code needed to evaluate whether a value in a group of values is negative or postive and prints an approriate message, i.e. postive, negative \n",
    "-1.59, 2.36, 1.69, 1.13, -0.91, 1.48, -0.34, 1.31, -0.74, 0.2"
   ]
  },
  {
   "cell_type": "code",
   "execution_count": 115,
   "id": "d6c38ecb",
   "metadata": {},
   "outputs": [
    {
     "name": "stdout",
     "output_type": "stream",
     "text": [
      "-1.59 is negative\n",
      "2.36 is positive\n",
      "2.36 is zero\n",
      "1.69 is positive\n",
      "1.69 is zero\n",
      "1.13 is positive\n",
      "1.13 is zero\n",
      "-0.91 is negative\n",
      "1.48 is positive\n",
      "1.48 is zero\n",
      "-0.34 is negative\n",
      "1.31 is positive\n",
      "1.31 is zero\n",
      "-0.74 is negative\n",
      "0.2 is positive\n",
      "0.2 is zero\n"
     ]
    }
   ],
   "source": [
    "values = [-1.59, 2.36, 1.69, 1.13, -0.91, 1.48, -0.34, 1.31, -0.74, 0.2]\n",
    "for x in values:\n",
    "    if x > 0:\n",
    "        print(f\"{x} is positive\")\n",
    "    if x < 0:\n",
    "        print(f\"{x} is negative\")\n",
    "    else:\n",
    "        print(f\"{x} is zero\")"
   ]
  },
  {
   "cell_type": "code",
   "execution_count": null,
   "id": "aaefba17",
   "metadata": {},
   "outputs": [],
   "source": []
  },
  {
   "cell_type": "markdown",
   "id": "8cafe65c",
   "metadata": {},
   "source": [
    "#### 14.  Complete the following:\n",
    "1. Write a program that generates 500 random integers from 1 to n, for example, the first integer will be 1 the second will be 1 or 2, the fifth between 1 and 5, and so on.\n",
    "2. The program should write each integer to a file \n",
    "3. Once all integers are written close the file\n",
    "\n",
    "##### Part 2\n",
    "1. Open and read the file into a list\n",
    "2. Create a line plot of the data"
   ]
  },
  {
   "cell_type": "code",
   "execution_count": 117,
   "id": "60a910bb",
   "metadata": {},
   "outputs": [],
   "source": [
    "#part 1\n",
    "\n",
    "import random\n",
    "\n",
    "with open(\"random_integers.txt\", \"w\") as file:\n",
    "    for x in range(1, 501):  \n",
    "        num = random.randint(1, x)  \n",
    "        file.write(str(num) + \"\\n\") "
   ]
  },
  {
   "cell_type": "code",
   "execution_count": 119,
   "id": "d6b4180c",
   "metadata": {},
   "outputs": [
    {
     "data": {
      "image/png": "[encoded data removed]",
      "text/plain": [
       "<Figure size 640x480 with 1 Axes>"
      ]
     },
     "metadata": {},
     "output_type": "display_data"
    }
   ],
   "source": [
    "#part 2\n",
    "import matplotlib.pyplot as plt\n",
    "with open(\"random_integers.txt\", \"r\") as file:\n",
    "    data = [int(line.strip()) for line in file]\n",
    "\n",
    "plt.plot(data)\n",
    "plt.title(\"Random Integers Line Plot\")\n",
    "plt.xlabel(\"Index\")\n",
    "plt.ylabel(\"Value\")\n",
    "plt.show()"
   ]
  },
  {
   "cell_type": "code",
   "execution_count": null,
   "id": "adb6aa11",
   "metadata": {},
   "outputs": [],
   "source": []
  },
  {
   "cell_type": "code",
   "execution_count": null,
   "id": "6745da79",
   "metadata": {},
   "outputs": [],
   "source": []
  },
  {
   "cell_type": "code",
   "execution_count": null,
   "id": "21140445",
   "metadata": {},
   "outputs": [],
   "source": []
  },
  {
   "cell_type": "code",
   "execution_count": null,
   "id": "3d546600",
   "metadata": {},
   "outputs": [],
   "source": []
  }
 ],
 "metadata": {
  "kernelspec": {
   "display_name": "Python [conda env:base] *",
   "language": "python",
   "name": "conda-base-py"
  },
  "language_info": {
   "codemirror_mode": {
    "name": "ipython",
    "version": 3
   },
   "file_extension": ".py",
   "mimetype": "text/x-python",
   "name": "python",
   "nbconvert_exporter": "python",
   "pygments_lexer": "ipython3",
   "version": "3.12.7"
  }
 },
 "nbformat": 4,
 "nbformat_minor": 5
}
